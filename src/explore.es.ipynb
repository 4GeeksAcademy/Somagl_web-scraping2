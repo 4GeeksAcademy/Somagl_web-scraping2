{
    "cells": [
        {
            "cell_type": "markdown",
            "metadata": {},
            "source": [
                "# Explora aquí\n",
                "\n",
                "Se recomienda utilizar este cuaderno con fines de exploración."
            ]
        },
        {
            "cell_type": "markdown",
            "metadata": {},
            "source": [
                "Dependencias"
            ]
        },
        {
            "cell_type": "code",
            "execution_count": 115,
            "metadata": {},
            "outputs": [],
            "source": [
                "import os\n",
                "from bs4 import BeautifulSoup\n",
                "import requests\n",
                "import time\n",
                "import sqlite3\n",
                "import matplotlib.pyplot as plt\n",
                "import seaborn as sns\n",
                "import csv\n",
                "import pandas as pd"
            ]
        },
        {
            "cell_type": "markdown",
            "metadata": {},
            "source": [
                "Hacer peticiones HTTP"
            ]
        },
        {
            "cell_type": "markdown",
            "metadata": {},
            "source": [
                "Implementación"
            ]
        },
        {
            "cell_type": "code",
            "execution_count": 116,
            "metadata": {},
            "outputs": [],
            "source": [
                "url = \"https://books.toscrape.com/\""
            ]
        },
        {
            "cell_type": "code",
            "execution_count": 117,
            "metadata": {},
            "outputs": [],
            "source": [
                "# Realizar la petición GET\n",
                "response = requests.get(url)"
            ]
        },
        {
            "cell_type": "code",
            "execution_count": 118,
            "metadata": {},
            "outputs": [
                {
                    "name": "stdout",
                    "output_type": "stream",
                    "text": [
                        "<Response [200]>\n"
                    ]
                }
            ],
            "source": [
                "# Verificar el código de estado\n",
                "print(response)"
            ]
        },
        {
            "cell_type": "code",
            "execution_count": 119,
            "metadata": {},
            "outputs": [
                {
                    "name": "stdout",
                    "output_type": "stream",
                    "text": [
                        "Status Code: 200. Exitoso\n",
                        "<!DOCTYPE html>\n"
                    ]
                }
            ],
            "source": [
                "if response.status_code == 200:\n",
                "    print('Status Code: 200. Exitoso')\n",
                "    print(response.text[0:15])\n",
                "else:\n",
                "    print('Status Code: ', response.status_code)"
            ]
        },
        {
            "cell_type": "markdown",
            "metadata": {},
            "source": [
                "Explorar la estructura HTML con BeautifulSoup"
            ]
        },
        {
            "cell_type": "code",
            "execution_count": 120,
            "metadata": {},
            "outputs": [],
            "source": [
                "soup = BeautifulSoup(response.text, 'html.parser')"
            ]
        },
        {
            "cell_type": "code",
            "execution_count": 121,
            "metadata": {},
            "outputs": [
                {
                    "name": "stdout",
                    "output_type": "stream",
                    "text": [
                        "All products | Books to Scrape - Sandbox\n"
                    ]
                }
            ],
            "source": [
                "head = soup.find('title')\n",
                "print(head.get_text(strip=True))"
            ]
        },
        {
            "cell_type": "code",
            "execution_count": 122,
            "metadata": {},
            "outputs": [
                {
                    "name": "stdout",
                    "output_type": "stream",
                    "text": [
                        "Books to ScrapeWe love being scraped!\n"
                    ]
                }
            ],
            "source": [
                "# Extraer el título principal\n",
                "titulo = soup.find('div', class_=\"col-sm-8 h1\")\n",
                "print(titulo.get_text(strip=True))"
            ]
        },
        {
            "cell_type": "markdown",
            "metadata": {},
            "source": [
                "Extracción de productos, nombre, crecio e imagen"
            ]
        },
        {
            "cell_type": "code",
            "execution_count": 123,
            "metadata": {},
            "outputs": [],
            "source": [
                "# Buscar todos los productos\n",
                "productos = soup.select('article.product_pod')"
            ]
        },
        {
            "cell_type": "code",
            "execution_count": 124,
            "metadata": {},
            "outputs": [
                {
                    "name": "stdout",
                    "output_type": "stream",
                    "text": [
                        "A Light in the Attic\n",
                        "Â£51.77\n",
                        "https://books.toscrape.com/media/cache/2c/da/2cdad67c44b002e7ead0cc35693c0e8b.jpg\n",
                        "Three\n",
                        "Tipping the Velvet\n",
                        "Â£53.74\n",
                        "https://books.toscrape.com/media/cache/26/0c/260c6ae16bce31c8f8c95daddd9f4a1c.jpg\n",
                        "One\n",
                        "Soumission\n",
                        "Â£50.10\n",
                        "https://books.toscrape.com/media/cache/3e/ef/3eef99c9d9adef34639f510662022830.jpg\n",
                        "One\n",
                        "Sharp Objects\n",
                        "Â£47.82\n",
                        "https://books.toscrape.com/media/cache/32/51/3251cf3a3412f53f339e42cac2134093.jpg\n",
                        "Four\n",
                        "Sapiens: A Brief History of Humankind\n",
                        "Â£54.23\n",
                        "https://books.toscrape.com/media/cache/be/a5/bea5697f2534a2f86a3ef27b5a8c12a6.jpg\n",
                        "Five\n",
                        "The Requiem Red\n",
                        "Â£22.65\n",
                        "https://books.toscrape.com/media/cache/68/33/68339b4c9bc034267e1da611ab3b34f8.jpg\n",
                        "One\n",
                        "The Dirty Little Secrets of Getting Your Dream Job\n",
                        "Â£33.34\n",
                        "https://books.toscrape.com/media/cache/92/27/92274a95b7c251fea59a2b8a78275ab4.jpg\n",
                        "Four\n",
                        "The Coming Woman: A Novel Based on the Life of the Infamous Feminist, Victoria Woodhull\n",
                        "Â£17.93\n",
                        "https://books.toscrape.com/media/cache/3d/54/3d54940e57e662c4dd1f3ff00c78cc64.jpg\n",
                        "Three\n",
                        "The Boys in the Boat: Nine Americans and Their Epic Quest for Gold at the 1936 Berlin Olympics\n",
                        "Â£22.60\n",
                        "https://books.toscrape.com/media/cache/66/88/66883b91f6804b2323c8369331cb7dd1.jpg\n",
                        "Four\n",
                        "The Black Maria\n",
                        "Â£52.15\n",
                        "https://books.toscrape.com/media/cache/58/46/5846057e28022268153beff6d352b06c.jpg\n",
                        "One\n",
                        "Starving Hearts (Triangular Trade Trilogy, #1)\n",
                        "Â£13.99\n",
                        "https://books.toscrape.com/media/cache/be/f4/bef44da28c98f905a3ebec0b87be8530.jpg\n",
                        "Two\n",
                        "Shakespeare's Sonnets\n",
                        "Â£20.66\n",
                        "https://books.toscrape.com/media/cache/10/48/1048f63d3b5061cd2f424d20b3f9b666.jpg\n",
                        "Four\n",
                        "Set Me Free\n",
                        "Â£17.46\n",
                        "https://books.toscrape.com/media/cache/5b/88/5b88c52633f53cacf162c15f4f823153.jpg\n",
                        "Five\n",
                        "Scott Pilgrim's Precious Little Life (Scott Pilgrim #1)\n",
                        "Â£52.29\n",
                        "https://books.toscrape.com/media/cache/94/b1/94b1b8b244bce9677c2f29ccc890d4d2.jpg\n",
                        "Five\n",
                        "Rip it Up and Start Again\n",
                        "Â£35.02\n",
                        "https://books.toscrape.com/media/cache/81/c4/81c4a973364e17d01f217e1188253d5e.jpg\n",
                        "Five\n",
                        "Our Band Could Be Your Life: Scenes from the American Indie Underground, 1981-1991\n",
                        "Â£57.25\n",
                        "https://books.toscrape.com/media/cache/54/60/54607fe8945897cdcced0044103b10b6.jpg\n",
                        "Three\n",
                        "Olio\n",
                        "Â£23.88\n",
                        "https://books.toscrape.com/media/cache/55/33/553310a7162dfbc2c6d19a84da0df9e1.jpg\n",
                        "One\n",
                        "Mesaerion: The Best Science Fiction Stories 1800-1849\n",
                        "Â£37.59\n",
                        "https://books.toscrape.com/media/cache/09/a3/09a3aef48557576e1a85ba7efea8ecb7.jpg\n",
                        "One\n",
                        "Libertarianism for Beginners\n",
                        "Â£51.33\n",
                        "https://books.toscrape.com/media/cache/0b/bc/0bbcd0a6f4bcd81ccb1049a52736406e.jpg\n",
                        "Two\n",
                        "It's Only the Himalayas\n",
                        "Â£45.17\n",
                        "https://books.toscrape.com/media/cache/27/a5/27a53d0bb95bdd88288eaf66c9230d7e.jpg\n",
                        "Two\n"
                    ]
                }
            ],
            "source": [
                "# Lista para almacenar la información\n",
                "product_list = []\n",
                "\n",
                "for product in productos:\n",
                "    # Nombre del libro\n",
                "    nombre = product.find('h3').find('a')['title']\n",
                "    print(nombre)\n",
                "\n",
                "    # Precio\n",
                "    precio = product.find('p', class_=\"price_color\").get_text()\n",
                "    print(precio)\n",
                "\n",
                "    # Imagen\n",
                "    imagen = product.find('div', class_='image_container').find('img')['src']\n",
                "    imagen_url = 'https://books.toscrape.com/'+ imagen\n",
                "    print(imagen_url)\n",
                "\n",
                "    # Estrellas\n",
                "    estrellas_elemento = product.find('p', class_=\"star-rating\")\n",
                "    rating = estrellas_elemento.get('class')[1]\n",
                "    print(rating)\n",
                "\n",
                "    pass\n",
                "\n",
                "    # Agregar los datos al diccionario y luego a la lista\n",
                "    product_list.append({\n",
                "        'titulo_libro': nombre,\n",
                "        'precio': precio,\n",
                "        'imagen_url': imagen_url,\n",
                "        'opiniones': rating\n",
                "    })"
            ]
        },
        {
            "cell_type": "code",
            "execution_count": 125,
            "metadata": {},
            "outputs": [
                {
                    "name": "stdout",
                    "output_type": "stream",
                    "text": [
                        "Extracción completa: 20 productos guardados en productos.csv\n"
                    ]
                }
            ],
            "source": [
                "# Guardar los datos en csv\n",
                "path_csv = 'resultados/productos.csv'\n",
                "\n",
                "with open (path_csv, 'w', newline='', encoding='utf-8') as f:\n",
                "    writer = csv.DictWriter(f, fieldnames=['titulo_libro', 'precio', 'imagen_url', 'opiniones'])\n",
                "    writer.writeheader()\n",
                "    writer.writerows(product_list)\n",
                "print(f'Extracción completa: {len(product_list)} productos guardados en productos.csv')"
            ]
        },
        {
            "cell_type": "code",
            "execution_count": 126,
            "metadata": {},
            "outputs": [
                {
                    "name": "stdout",
                    "output_type": "stream",
                    "text": [
                        "[{'titulo_libro': 'A Light in the Attic', 'precio': 'Â£51.77', 'imagen_url': 'https://books.toscrape.com/media/cache/2c/da/2cdad67c44b002e7ead0cc35693c0e8b.jpg', 'opiniones': 'Three'}, {'titulo_libro': 'Tipping the Velvet', 'precio': 'Â£53.74', 'imagen_url': 'https://books.toscrape.com/media/cache/26/0c/260c6ae16bce31c8f8c95daddd9f4a1c.jpg', 'opiniones': 'One'}, {'titulo_libro': 'Soumission', 'precio': 'Â£50.10', 'imagen_url': 'https://books.toscrape.com/media/cache/3e/ef/3eef99c9d9adef34639f510662022830.jpg', 'opiniones': 'One'}, {'titulo_libro': 'Sharp Objects', 'precio': 'Â£47.82', 'imagen_url': 'https://books.toscrape.com/media/cache/32/51/3251cf3a3412f53f339e42cac2134093.jpg', 'opiniones': 'Four'}, {'titulo_libro': 'Sapiens: A Brief History of Humankind', 'precio': 'Â£54.23', 'imagen_url': 'https://books.toscrape.com/media/cache/be/a5/bea5697f2534a2f86a3ef27b5a8c12a6.jpg', 'opiniones': 'Five'}, {'titulo_libro': 'The Requiem Red', 'precio': 'Â£22.65', 'imagen_url': 'https://books.toscrape.com/media/cache/68/33/68339b4c9bc034267e1da611ab3b34f8.jpg', 'opiniones': 'One'}, {'titulo_libro': 'The Dirty Little Secrets of Getting Your Dream Job', 'precio': 'Â£33.34', 'imagen_url': 'https://books.toscrape.com/media/cache/92/27/92274a95b7c251fea59a2b8a78275ab4.jpg', 'opiniones': 'Four'}, {'titulo_libro': 'The Coming Woman: A Novel Based on the Life of the Infamous Feminist, Victoria Woodhull', 'precio': 'Â£17.93', 'imagen_url': 'https://books.toscrape.com/media/cache/3d/54/3d54940e57e662c4dd1f3ff00c78cc64.jpg', 'opiniones': 'Three'}, {'titulo_libro': 'The Boys in the Boat: Nine Americans and Their Epic Quest for Gold at the 1936 Berlin Olympics', 'precio': 'Â£22.60', 'imagen_url': 'https://books.toscrape.com/media/cache/66/88/66883b91f6804b2323c8369331cb7dd1.jpg', 'opiniones': 'Four'}, {'titulo_libro': 'The Black Maria', 'precio': 'Â£52.15', 'imagen_url': 'https://books.toscrape.com/media/cache/58/46/5846057e28022268153beff6d352b06c.jpg', 'opiniones': 'One'}, {'titulo_libro': 'Starving Hearts (Triangular Trade Trilogy, #1)', 'precio': 'Â£13.99', 'imagen_url': 'https://books.toscrape.com/media/cache/be/f4/bef44da28c98f905a3ebec0b87be8530.jpg', 'opiniones': 'Two'}, {'titulo_libro': \"Shakespeare's Sonnets\", 'precio': 'Â£20.66', 'imagen_url': 'https://books.toscrape.com/media/cache/10/48/1048f63d3b5061cd2f424d20b3f9b666.jpg', 'opiniones': 'Four'}, {'titulo_libro': 'Set Me Free', 'precio': 'Â£17.46', 'imagen_url': 'https://books.toscrape.com/media/cache/5b/88/5b88c52633f53cacf162c15f4f823153.jpg', 'opiniones': 'Five'}, {'titulo_libro': \"Scott Pilgrim's Precious Little Life (Scott Pilgrim #1)\", 'precio': 'Â£52.29', 'imagen_url': 'https://books.toscrape.com/media/cache/94/b1/94b1b8b244bce9677c2f29ccc890d4d2.jpg', 'opiniones': 'Five'}, {'titulo_libro': 'Rip it Up and Start Again', 'precio': 'Â£35.02', 'imagen_url': 'https://books.toscrape.com/media/cache/81/c4/81c4a973364e17d01f217e1188253d5e.jpg', 'opiniones': 'Five'}, {'titulo_libro': 'Our Band Could Be Your Life: Scenes from the American Indie Underground, 1981-1991', 'precio': 'Â£57.25', 'imagen_url': 'https://books.toscrape.com/media/cache/54/60/54607fe8945897cdcced0044103b10b6.jpg', 'opiniones': 'Three'}, {'titulo_libro': 'Olio', 'precio': 'Â£23.88', 'imagen_url': 'https://books.toscrape.com/media/cache/55/33/553310a7162dfbc2c6d19a84da0df9e1.jpg', 'opiniones': 'One'}, {'titulo_libro': 'Mesaerion: The Best Science Fiction Stories 1800-1849', 'precio': 'Â£37.59', 'imagen_url': 'https://books.toscrape.com/media/cache/09/a3/09a3aef48557576e1a85ba7efea8ecb7.jpg', 'opiniones': 'One'}, {'titulo_libro': 'Libertarianism for Beginners', 'precio': 'Â£51.33', 'imagen_url': 'https://books.toscrape.com/media/cache/0b/bc/0bbcd0a6f4bcd81ccb1049a52736406e.jpg', 'opiniones': 'Two'}, {'titulo_libro': \"It's Only the Himalayas\", 'precio': 'Â£45.17', 'imagen_url': 'https://books.toscrape.com/media/cache/27/a5/27a53d0bb95bdd88288eaf66c9230d7e.jpg', 'opiniones': 'Two'}]\n"
                    ]
                }
            ],
            "source": [
                "print(product_list)"
            ]
        },
        {
            "cell_type": "markdown",
            "metadata": {},
            "source": [
                "La web escogida tiene varias páginas. Por el momento, sólo se han seleccionado los datos correspondientes a la primera página pero se necesita extraer los datos de todas las páginas."
            ]
        },
        {
            "cell_type": "code",
            "execution_count": 127,
            "metadata": {},
            "outputs": [],
            "source": [
                "url_pag= 'https://books.toscrape.com/catalogue/category/books_1/page-{}.html'"
            ]
        },
        {
            "cell_type": "code",
            "execution_count": 128,
            "metadata": {},
            "outputs": [
                {
                    "name": "stdout",
                    "output_type": "stream",
                    "text": [
                        "página1 procesada\n",
                        "página2 procesada\n",
                        "página3 procesada\n",
                        "página4 procesada\n",
                        "página5 procesada\n",
                        "página6 procesada\n",
                        "página7 procesada\n",
                        "página8 procesada\n",
                        "página9 procesada\n",
                        "página10 procesada\n",
                        "página11 procesada\n",
                        "página12 procesada\n",
                        "página13 procesada\n",
                        "página14 procesada\n",
                        "página15 procesada\n",
                        "página16 procesada\n",
                        "página17 procesada\n",
                        "página18 procesada\n",
                        "página19 procesada\n",
                        "página20 procesada\n",
                        "página21 procesada\n",
                        "página22 procesada\n",
                        "página23 procesada\n",
                        "página24 procesada\n",
                        "página25 procesada\n",
                        "página26 procesada\n",
                        "página27 procesada\n",
                        "página28 procesada\n",
                        "página29 procesada\n",
                        "página30 procesada\n",
                        "página31 procesada\n",
                        "página32 procesada\n",
                        "página33 procesada\n",
                        "página34 procesada\n",
                        "página35 procesada\n",
                        "página36 procesada\n",
                        "página37 procesada\n",
                        "página38 procesada\n",
                        "página39 procesada\n",
                        "página40 procesada\n",
                        "página41 procesada\n",
                        "página42 procesada\n",
                        "página43 procesada\n",
                        "página44 procesada\n",
                        "página45 procesada\n",
                        "página46 procesada\n",
                        "página47 procesada\n",
                        "página48 procesada\n",
                        "página49 procesada\n",
                        "página50 procesada\n"
                    ]
                }
            ],
            "source": [
                "# Lista para almacenar la información\n",
                "product_list_2 = []\n",
                "\n",
                "# Revisión de las primeras 3 páginas\n",
                "for page in range(1,51):\n",
                "    url_f = url_pag.format(page)\n",
                "    response = requests.get(url_f)\n",
                "    soup = BeautifulSoup(response.text, 'html.parser')\n",
                "    products = soup.select('article.product_pod')\n",
                "\n",
                "\n",
                "    for product in products:\n",
                "        title = product.find('h3').find('a')['title']\n",
                "        price = product.find('p', class_=\"price_color\").get_text()\n",
                "        image_base = product.find('div', class_='image_container').find('img')['src']\n",
                "        imagen_url = 'https://books.toscrape.com/'+ image_base\n",
                "        element_rating = product.find('p', class_=\"star-rating\")\n",
                "        rating = element_rating.get('class')[1]\n",
                "        product_list_2.append({\n",
                "            'titulo_libro': title,\n",
                "            'precio': price,\n",
                "            'imagen_url': imagen_url,\n",
                "            'opiniones': rating\n",
                "        })\n",
                "        pass\n",
                "\n",
                "        # Espera breve entre páginas para simular navegación real\n",
                "    time.sleep(1)\n",
                "    print(f'página{page} procesada')"
            ]
        },
        {
            "cell_type": "markdown",
            "metadata": {},
            "source": [
                "Formatos útiles para revisar resultados"
            ]
        },
        {
            "cell_type": "code",
            "execution_count": 129,
            "metadata": {},
            "outputs": [
                {
                    "name": "stdout",
                    "output_type": "stream",
                    "text": [
                        "Extracción completa: 1000 productos guardados en productos_multi_pag.csv\n"
                    ]
                }
            ],
            "source": [
                "# Guardar los resultados en un nuevo csv\n",
                "with open ('resultados/productos_multi_pag.csv', 'w', newline='', encoding='utf-8') as f:\n",
                "    writer = csv.DictWriter(f, fieldnames=['titulo_libro', 'precio', 'imagen_url', 'opiniones'])\n",
                "    writer.writeheader()\n",
                "    writer.writerows(product_list_2)\n",
                "print(f'Extracción completa: {len(product_list_2)} productos guardados en productos_multi_pag.csv')"
            ]
        },
        {
            "cell_type": "code",
            "execution_count": 130,
            "metadata": {},
            "outputs": [
                {
                    "name": "stdout",
                    "output_type": "stream",
                    "text": [
                        "                            titulo_libro   precio  \\\n",
                        "0                   A Light in the Attic  Â£51.77   \n",
                        "1                     Tipping the Velvet  Â£53.74   \n",
                        "2                             Soumission  Â£50.10   \n",
                        "3                          Sharp Objects  Â£47.82   \n",
                        "4  Sapiens: A Brief History of Humankind  Â£54.23   \n",
                        "\n",
                        "                                          imagen_url opiniones  \n",
                        "0  https://books.toscrape.com/../../../media/cach...     Three  \n",
                        "1  https://books.toscrape.com/../../../media/cach...       One  \n",
                        "2  https://books.toscrape.com/../../../media/cach...       One  \n",
                        "3  https://books.toscrape.com/../../../media/cach...      Four  \n",
                        "4  https://books.toscrape.com/../../../media/cach...      Five  \n"
                    ]
                }
            ],
            "source": [
                "# Transformar datos a DataFrame\n",
                "pd.set_option('display.max_columns', None)\n",
                "df = pd.DataFrame(product_list_2)\n",
                "\n",
                "# Mostrar las primeras filas del DataFrame\n",
                "print(df.head())"
            ]
        },
        {
            "cell_type": "markdown",
            "metadata": {},
            "source": [
                "Limpieza de datos"
            ]
        },
        {
            "cell_type": "code",
            "execution_count": 131,
            "metadata": {},
            "outputs": [],
            "source": [
                "df['precio'] = df['precio'].str.replace('Â£', '', regex=False)"
            ]
        },
        {
            "cell_type": "code",
            "execution_count": 132,
            "metadata": {},
            "outputs": [
                {
                    "name": "stdout",
                    "output_type": "stream",
                    "text": [
                        "                            titulo_libro precio  \\\n",
                        "0                   A Light in the Attic  51.77   \n",
                        "1                     Tipping the Velvet  53.74   \n",
                        "2                             Soumission  50.10   \n",
                        "3                          Sharp Objects  47.82   \n",
                        "4  Sapiens: A Brief History of Humankind  54.23   \n",
                        "\n",
                        "                                          imagen_url opiniones  \n",
                        "0  https://books.toscrape.com/../../../media/cach...     Three  \n",
                        "1  https://books.toscrape.com/../../../media/cach...       One  \n",
                        "2  https://books.toscrape.com/../../../media/cach...       One  \n",
                        "3  https://books.toscrape.com/../../../media/cach...      Four  \n",
                        "4  https://books.toscrape.com/../../../media/cach...      Five  \n"
                    ]
                }
            ],
            "source": [
                "# Mostrar las primeras filas del DataFrame\n",
                "print(df.head())"
            ]
        },
        {
            "cell_type": "markdown",
            "metadata": {},
            "source": [
                "Almacenar datos en SQLite"
            ]
        },
        {
            "cell_type": "code",
            "execution_count": 133,
            "metadata": {},
            "outputs": [],
            "source": [
                "# Conectar a la base de datos (se crea si no existe)\n",
                "conn = sqlite3.connect('resultados/productos_multi_pag.db')\n",
                "cursor = conn.cursor()"
            ]
        },
        {
            "cell_type": "code",
            "execution_count": 134,
            "metadata": {},
            "outputs": [
                {
                    "data": {
                        "text/plain": [
                            "<sqlite3.Cursor at 0x7bc252a98dc0>"
                        ]
                    },
                    "execution_count": 134,
                    "metadata": {},
                    "output_type": "execute_result"
                }
            ],
            "source": [
                "# Crear tabla\n",
                "cursor.execute('''\n",
                "    CREATE TABLE IF NOT EXISTS libros (\n",
                "        id INTEGER PRIMARY KEY AUTOINCREMENT,\n",
                "        titulo_libro TEXT,\n",
                "        precio REAL,\n",
                "        imagen_url TEXT,\n",
                "        opiniones TEXT\n",
                "    )\n",
                "''')"
            ]
        },
        {
            "cell_type": "code",
            "execution_count": 135,
            "metadata": {},
            "outputs": [],
            "source": [
                "# Insertar valores del DataFrame\n",
                "for _, row in df.iterrows():\n",
                "    cursor.execute('''\n",
                "        INSERT INTO libros (titulo_libro, precio, imagen_url, opiniones)\n",
                "        VALUES (?, ?, ?, ?)\n",
                "    ''', (row['titulo_libro'], row['precio'], row['imagen_url'], row['opiniones']))"
            ]
        },
        {
            "cell_type": "code",
            "execution_count": 136,
            "metadata": {},
            "outputs": [],
            "source": [
                "conn.commit()  # Guardar cambios en la base de datos\n",
                "conn.close()   # Cerrar conexión"
            ]
        },
        {
            "cell_type": "markdown",
            "metadata": {},
            "source": [
                "Representación datos extraídos"
            ]
        },
        {
            "cell_type": "code",
            "execution_count": 137,
            "metadata": {},
            "outputs": [
                {
                    "data": {
                        "image/png": "[encoded data removed]",
                        "text/plain": [
                            "<Figure size 800x500 with 1 Axes>"
                        ]
                    },
                    "metadata": {},
                    "output_type": "display_data"
                }
            ],
            "source": [
                "# Cantidad de libros por calificación\n",
                "plt.figure(figsize=(8,5))\n",
                "sns.countplot(x=df['opiniones'], order=['One', 'Two', 'Three', 'Four', 'Five'])\n",
                "plt.xlabel('Calificación en estrellas')\n",
                "plt.ylabel('Cantidad de libros')\n",
                "plt.title('Número de libros por calificación')\n",
                "plt.show()"
            ]
        },
        {
            "cell_type": "code",
            "execution_count": 138,
            "metadata": {},
            "outputs": [
                {
                    "data": {
                        "image/png": "[encoded data removed]",
                        "text/plain": [
                            "<Figure size 800x500 with 1 Axes>"
                        ]
                    },
                    "metadata": {},
                    "output_type": "display_data"
                }
            ],
            "source": [
                "# Relación entre precio y calificación\n",
                "order = ['One', 'Two', 'Three', 'Four', 'Five']\n",
                "plt.figure(figsize=(8,5))\n",
                "sns.scatterplot(x=df['precio'], y=pd.Categorical(df['opiniones'], categories=order, ordered=True),alpha=0.7, edgecolor='black')\n",
                "plt.xlabel('Precio (£)')\n",
                "plt.ylabel('Calificación')\n",
                "plt.title('Relación entre precio y calificación de los libros')\n",
                "plt.show()"
            ]
        },
        {
            "cell_type": "markdown",
            "metadata": {},
            "source": [
                "Los precios de los libros están distribuidos de manera similar para todas las calificaciones. Por lo tanto, el gráfico no indica que haya una relación clara entre precio y la valoración. "
            ]
        }
    ],
    "metadata": {
        "kernelspec": {
            "display_name": "Python 3",
            "language": "python",
            "name": "python3"
        },
        "language_info": {
            "codemirror_mode": {
                "name": "ipython",
                "version": 3
            },
            "file_extension": ".py",
            "mimetype": "text/x-python",
            "name": "python",
            "nbconvert_exporter": "python",
            "pygments_lexer": "ipython3",
            "version": "3.11.4"
        },
        "orig_nbformat": 4
    },
    "nbformat": 4,
    "nbformat_minor": 2
}
